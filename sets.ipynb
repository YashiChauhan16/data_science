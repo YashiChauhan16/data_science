{
 "cells": [
  {
   "cell_type": "markdown",
   "id": "c23aed76",
   "metadata": {},
   "source": [
    "#Sets Assignments."
   ]
  },
  {
   "cell_type": "code",
   "execution_count": 64,
   "id": "61caf3ab",
   "metadata": {},
   "outputs": [
    {
     "name": "stdout",
     "output_type": "stream",
     "text": [
      "{1, 2, 3, 4, 5, 6, 7, 8, 9, 10}\n"
     ]
    }
   ],
   "source": [
    "#Q-1\n",
    "q = set(range(1, 11))\n",
    "print(q)\n"
   ]
  },
  {
   "cell_type": "code",
   "execution_count": 65,
   "id": "4c8c8527",
   "metadata": {},
   "outputs": [
    {
     "name": "stdout",
     "output_type": "stream",
     "text": [
      "{1, 2, 3, 4, 5, 6, 7, 8, 9, 100}\n"
     ]
    }
   ],
   "source": [
    "\n",
    "#Q-2\n",
    "q.remove(10)\n",
    "q.add(100)\n",
    "print(q)"
   ]
  },
  {
   "cell_type": "code",
   "execution_count": 66,
   "id": "6007c32d",
   "metadata": {},
   "outputs": [
    {
     "name": "stdout",
     "output_type": "stream",
     "text": [
      "{1, 2, 3, 4, 5}\n",
      "{2, 4, 6, 8, 10}\n",
      "Union:{1, 2, 3, 4, 5, 6, 8, 10}\n",
      "Intersection:{2, 4}\n",
      "Difference:{1, 3, 5}\n",
      "Symmentric_difference:{1, 3, 5, 6, 8, 10}\n"
     ]
    }
   ],
   "source": [
    "#Q-3\n",
    "my_1 = set(range(1, 6))\n",
    "my_2 = set(range(2, 11, 2))\n",
    "print(my_1)\n",
    "print(my_2)\n",
    "print(f\"Union:{my_1 | my_2}\")\n",
    "print(f\"Intersection:{my_1 & my_2}\")\n",
    "print(f\"Difference:{my_1 - my_2}\")\n",
    "print(f\"Symmentric_difference:{my_1 ^ my_2}\")\n"
   ]
  },
  {
   "cell_type": "code",
   "execution_count": 67,
   "id": "265f32f1",
   "metadata": {},
   "outputs": [
    {
     "name": "stdout",
     "output_type": "stream",
     "text": [
      "{64, 1, 4, 36, 100, 9, 16, 49, 81, 25}\n"
     ]
    }
   ],
   "source": [
    "#Q-4\n",
    "new_set= {a**2 for a in range (1,11)}\n",
    "print(new_set) #sets are unordered "
   ]
  },
  {
   "cell_type": "markdown",
   "id": "8a6d4315",
   "metadata": {},
   "source": []
  },
  {
   "cell_type": "code",
   "execution_count": 68,
   "id": "b80e57ab",
   "metadata": {},
   "outputs": [
    {
     "name": "stdout",
     "output_type": "stream",
     "text": [
      "{2, 100, 4, 6, 8}\n"
     ]
    }
   ],
   "source": [
    "#Q-5\n",
    "new_2nd = {b for b in q if b%2==0}  \n",
    "print(new_2nd)"
   ]
  },
  {
   "cell_type": "code",
   "execution_count": 69,
   "id": "db410d82",
   "metadata": {},
   "outputs": [
    {
     "name": "stdout",
     "output_type": "stream",
     "text": [
      "{50, 20, 70, 40, 10, 30}\n",
      "Symmentric_difference:{50, 20, 70, 40, 10, 30}\n"
     ]
    }
   ],
   "source": [
    "#Q-6\n",
    "price= {10,20,30,10,10,40,50,20,10,70}\n",
    "print(price)\n",
    "print(f\"Symmentric_difference:{price}\")"
   ]
  },
  {
   "cell_type": "code",
   "execution_count": 70,
   "id": "e3eaa1e3",
   "metadata": {},
   "outputs": [
    {
     "name": "stdout",
     "output_type": "stream",
     "text": [
      "{50, 20, 70, 40, 10, 30}\n"
     ]
    }
   ],
   "source": [
    "#Q-6 #with set method\n",
    "new_price= set(price)\n",
    "print(new_price)\n"
   ]
  },
  {
   "cell_type": "code",
   "execution_count": 72,
   "id": "aeba7a98",
   "metadata": {},
   "outputs": [
    {
     "name": "stdout",
     "output_type": "stream",
     "text": [
      "SUBSET: True\n",
      "SUPERSET:True\n"
     ]
    }
   ],
   "source": [
    "#Q-7\n",
    "five= {1,2,3,4,5}\n",
    "three={1,2,3}\n",
    "print(f\"SUBSET: {three.issubset(five)}\")\n",
    "print(f\"SUPERSET:{five.issuperset(three)}\")\n"
   ]
  },
  {
   "cell_type": "code",
   "execution_count": 74,
   "id": "2644217e",
   "metadata": {},
   "outputs": [
    {
     "name": "stdout",
     "output_type": "stream",
     "text": [
      "frozenset({1, 2, 3, 4, 5})\n"
     ]
    }
   ],
   "source": [
    "#Q-8\n",
    "frozen= frozenset(range(1,6))\n",
    "print(frozen)"
   ]
  },
  {
   "cell_type": "code",
   "execution_count": 79,
   "id": "8ebdb4fd",
   "metadata": {},
   "outputs": [
    {
     "name": "stdout",
     "output_type": "stream",
     "text": [
      "After adding 6 {1, 2, 3, 4, 5, 6}\n"
     ]
    }
   ],
   "source": [
    "#Q-9\n",
    "set_list= set(range(1,6))\n",
    "list_set= list(set_list)\n",
    "list_set.append(6)\n",
    "set_list= set(list_set)\n",
    "print(f\"After adding 6 {set_list}\")"
   ]
  },
  {
   "cell_type": "code",
   "execution_count": 89,
   "id": "34add6f1",
   "metadata": {},
   "outputs": [
    {
     "name": "stdout",
     "output_type": "stream",
     "text": [
      "{frozenset({2, 4}): 8, frozenset({4, 6}): 24, frozenset({8, 6}): 48}\n"
     ]
    }
   ],
   "source": [
    "#Q-10\n",
    "q = {\n",
    "    frozenset({4,2 }): 8,\n",
    "    frozenset({6, 4}): 24,\n",
    "    frozenset({8, 6}): 48\n",
    "}\n",
    "print(q)"
   ]
  },
  {
   "cell_type": "code",
   "execution_count": 90,
   "id": "c86be07d",
   "metadata": {},
   "outputs": [
    {
     "name": "stdout",
     "output_type": "stream",
     "text": [
      "80\n",
      "50\n",
      "100\n",
      "20\n",
      "40\n",
      "10\n",
      "60\n"
     ]
    }
   ],
   "source": [
    "#Q-11\n",
    "like= {10,20,40,50,60,80,100}\n",
    "for v in like:\n",
    "    print(v)"
   ]
  },
  {
   "cell_type": "code",
   "execution_count": 94,
   "id": "5f20a9c2",
   "metadata": {},
   "outputs": [
    {
     "name": "stdout",
     "output_type": "stream",
     "text": [
      "{21, 22, 23, 24, 25, 26, 27}\n",
      "{22, 23, 24, 25, 26, 27}\n",
      "{23, 24, 25, 26, 27}\n",
      "{24, 25, 26, 27}\n",
      "{25, 26, 27}\n",
      "{26, 27}\n",
      "{27}\n",
      "set()\n"
     ]
    }
   ],
   "source": [
    "#Q-12\n",
    "remove = set(range(20, 28))\n",
    "while remove:\n",
    "    remove.pop()\n",
    "    print(remove)\n",
    "    "
   ]
  },
  {
   "cell_type": "code",
   "execution_count": 95,
   "id": "9c9d6f34",
   "metadata": {},
   "outputs": [
    {
     "name": "stdout",
     "output_type": "stream",
     "text": [
      "{80, 100, 10, 60}\n"
     ]
    }
   ],
   "source": [
    "#Q-13\n",
    "new_10 = {10,40,60}\n",
    "new_20 = {40,80,100}\n",
    "new_10.symmetric_difference_update(new_20)\n",
    "print(new_10)"
   ]
  },
  {
   "cell_type": "code",
   "execution_count": 96,
   "id": "bdf1493a",
   "metadata": {},
   "outputs": [
    {
     "name": "stdout",
     "output_type": "stream",
     "text": [
      "{'d', 'b', 'c', 'a', 'e'}\n",
      "True\n",
      "False\n"
     ]
    }
   ],
   "source": [
    "#Q-14\n",
    "my_set={'a','b','c','d','e'}\n",
    "print(my_set)\n",
    "print('a' in my_set)\n",
    "print('f'in my_set)\n"
   ]
  },
  {
   "cell_type": "code",
   "execution_count": 97,
   "id": "a8cc6f8f",
   "metadata": {},
   "outputs": [
    {
     "name": "stdout",
     "output_type": "stream",
     "text": [
      "{(100, 200), (1, 2), (1000, 2000), (10, 20)}\n"
     ]
    }
   ],
   "source": [
    "#Q-15\n",
    "set_tuple={(1,2),(10,20),(100,200),(1000,2000)}\n",
    "print(set_tuple)"
   ]
  }
 ],
 "metadata": {
  "kernelspec": {
   "display_name": "Python 3",
   "language": "python",
   "name": "python3"
  },
  "language_info": {
   "codemirror_mode": {
    "name": "ipython",
    "version": 3
   },
   "file_extension": ".py",
   "mimetype": "text/x-python",
   "name": "python",
   "nbconvert_exporter": "python",
   "pygments_lexer": "ipython3",
   "version": "3.12.0"
  }
 },
 "nbformat": 4,
 "nbformat_minor": 5
}
