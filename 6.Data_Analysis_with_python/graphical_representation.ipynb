{
 "cells": [
  {
   "cell_type": "markdown",
   "id": "44c14cb5",
   "metadata": {},
   "source": [
    "MATPLOTLIB & SEABORN."
   ]
  },
  {
   "cell_type": "code",
   "execution_count": null,
   "id": "dde22c3f",
   "metadata": {},
   "outputs": [],
   "source": []
  }
 ],
 "metadata": {
  "kernelspec": {
   "display_name": "base",
   "language": "python",
   "name": "python3"
  },
  "language_info": {
   "name": "python",
   "version": "3.12.7"
  }
 },
 "nbformat": 4,
 "nbformat_minor": 5
}
