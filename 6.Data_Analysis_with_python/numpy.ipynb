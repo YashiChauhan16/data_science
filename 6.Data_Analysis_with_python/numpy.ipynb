{
 "cells": [
  {
   "cell_type": "markdown",
   "id": "f949e6c0",
   "metadata": {},
   "source": [
    "Numpy Assignment."
   ]
  },
  {
   "cell_type": "code",
   "execution_count": 2,
   "id": "6170b19e",
   "metadata": {},
   "outputs": [],
   "source": [
    "import numpy as np"
   ]
  },
  {
   "cell_type": "code",
   "execution_count": 40,
   "id": "cc772336",
   "metadata": {},
   "outputs": [
    {
     "name": "stdout",
     "output_type": "stream",
     "text": [
      "Old:\n",
      " [[19  2 19 12 20]\n",
      " [ 7 10 14  6  8]\n",
      " [ 2 10 19 16 12]\n",
      " [19  2  2  5  6]\n",
      " [15  1  9  9  4]]\n",
      "New:\n",
      "[[19  2  1 12 20]\n",
      " [ 7 10  1  6  8]\n",
      " [ 2 10  1 16 12]\n",
      " [19  2  1  5  6]\n",
      " [15  1  1  9  4]]\n"
     ]
    }
   ],
   "source": [
    "#assingment1\n",
    "#q-1\n",
    "a= np.random.randint(1, 21, size=(5, 5))\n",
    "print(f\"Old:\\n {a}\")\n",
    "\n",
    "a[:,2]=1\n",
    "print(f\"New:\\n{a}\")\n"
   ]
  },
  {
   "cell_type": "code",
   "execution_count": 43,
   "id": "03ec119a",
   "metadata": {},
   "outputs": [
    {
     "name": "stdout",
     "output_type": "stream",
     "text": [
      "Old:\n",
      " [[ 5  7  7 15]\n",
      " [ 7  9  5 11]\n",
      " [ 8 12 11  1]\n",
      " [11  4  7  8]]\n",
      "New:\n",
      "[[ 0  7  7 15]\n",
      " [ 7  0  5 11]\n",
      " [ 8 12  0  1]\n",
      " [11  4  7  0]]\n"
     ]
    }
   ],
   "source": [
    "#q-2\n",
    "x=np.random.randint(1,17, size=(4,4))\n",
    "print(f\"Old:\\n {x}\")\n",
    "np.fill_diagonal(x, 0)\n",
    "print(f\"New:\\n{x}\")\n"
   ]
  },
  {
   "cell_type": "code",
   "execution_count": 50,
   "id": "b2403ad7",
   "metadata": {},
   "outputs": [
    {
     "name": "stdout",
     "output_type": "stream",
     "text": [
      "The array:[[10 24  8 10 14 14]\n",
      " [16  1 14 23 34 18]\n",
      " [ 7  5 36 32  1 15]\n",
      " [32 23 13 27 28 13]\n",
      " [11 24 27 18 23 25]\n",
      " [21  9 11 25 17 22]]\n",
      "3rd to 5th row:\n",
      "[[ 7  5 36 32  1 15]\n",
      " [32 23 13 27 28 13]\n",
      " [11 24 27 18 23 25]]\n",
      "2nd to 4th row:\n",
      "[[16  1 14 23 34 18]\n",
      " [ 7  5 36 32  1 15]\n",
      " [32 23 13 27 28 13]]\n"
     ]
    }
   ],
   "source": [
    "#assignment2\n",
    "#q-1\n",
    "y=np.random.randint(1,37 , size=(6,6))\n",
    "print(f\"The array:{y}\")\n",
    "z=y[2:5,:]\n",
    "print(f\"3rd to 5th row:\\n{z}\")\n",
    "w=y[1:4,:]\n",
    "print(f\"2nd to 4th row:\\n{w}\")"
   ]
  },
  {
   "cell_type": "code",
   "execution_count": 61,
   "id": "e18e086a",
   "metadata": {},
   "outputs": [
    {
     "name": "stdout",
     "output_type": "stream",
     "text": [
      "The Array:\n",
      "[[13 14 33 29 35]\n",
      " [23 27 27 23 36]\n",
      " [16 31 10 11 22]\n",
      " [22 21 40 13 20]\n",
      " [38 26 38 37 17]]\n",
      "(array([13, 14, 33, 29, 35], dtype=int32), array([38, 26, 38, 37, 17], dtype=int32), np.int32(23), np.int32(16), np.int32(22), np.int32(36), np.int32(22), np.int32(20))\n"
     ]
    }
   ],
   "source": [
    "#q-2\n",
    "p=np.random.randint(10,41,size=(5,5))\n",
    "print(f\"The Array:\\n{p}\")\n",
    "a=p[0,:]\n",
    "b=p[4,:]\n",
    "c=p[1,0]\n",
    "d=p[2,0]\n",
    "e=p[3,0]\n",
    "f=p[1,4]\n",
    "g=p[2,4]\n",
    "h=p[3,4]\n",
    "i=(a,b,c,d,e,f,g,h)\n",
    "print(i)"
   ]
  },
  {
   "cell_type": "code",
   "execution_count": 62,
   "id": "274ea0c7",
   "metadata": {},
   "outputs": [
    {
     "name": "stdout",
     "output_type": "stream",
     "text": [
      "[[ 2  4 11 11]\n",
      " [ 6  9  7  7]\n",
      " [ 2  7  2 10]]\n",
      "[[10  6  1 11]\n",
      " [ 6  2  5  5]\n",
      " [ 5  5 10 11]]\n",
      "ADDITION:\n",
      "[[12 10 12 22]\n",
      " [12 11 12 12]\n",
      " [ 7 12 12 21]]\n",
      "SUBTRACTION:\n",
      "[[-8 -2 10  0]\n",
      " [ 0  7  2  2]\n",
      " [-3  2 -8 -1]]\n",
      "MULTIPLICATIOB:\n",
      "[[ 20  24  11 121]\n",
      " [ 36  18  35  35]\n",
      " [ 10  35  20 110]]\n",
      "DIVISION:\n",
      "[[ 0.2         0.66666667 11.          1.        ]\n",
      " [ 1.          4.5         1.4         1.4       ]\n",
      " [ 0.4         1.4         0.2         0.90909091]]\n"
     ]
    }
   ],
   "source": [
    "#assignment3\n",
    "#q-1\n",
    "a=np.random.randint(1,12,size=(3,4))\n",
    "b=np.random.randint(1,12,size=(3,4))\n",
    "print(a)\n",
    "print(b)\n",
    "add=a+b\n",
    "sub=a-b\n",
    "multi=a*b\n",
    "div=a/b\n",
    "print(f\"ADDITION:\\n{add}\")\n",
    "print(f\"SUBTRACTION:\\n{sub}\")\n",
    "print(f\"MULTIPLICATIOB:\\n{multi}\")\n",
    "print(f\"DIVISION:\\n{div}\")"
   ]
  },
  {
   "cell_type": "code",
   "execution_count": 66,
   "id": "feb23db9",
   "metadata": {},
   "outputs": [
    {
     "name": "stdout",
     "output_type": "stream",
     "text": [
      "Og:\n",
      "[[ 6  2 16 12]\n",
      " [ 8  6  2  5]\n",
      " [ 1 16  9  9]\n",
      " [ 6 14 15 16]]\n",
      "Row sum:\n",
      "[36 21 35 51]\n",
      "Column sum:\n",
      "[21 38 42 42]\n"
     ]
    }
   ],
   "source": [
    "#q-2\n",
    "u=np.random.randint(1,17,size=(4,4))\n",
    "print(f\"Og:\\n{u}\")\n",
    "clm=np.sum(u,axis=0)\n",
    "row=np.sum(u, axis=1)\n",
    "print(f\"Row sum:\\n{row}\")\n",
    "print(f\"Column sum:\\n{clm}\")"
   ]
  },
  {
   "cell_type": "code",
   "execution_count": 68,
   "id": "ca8e2c74",
   "metadata": {},
   "outputs": [
    {
     "name": "stdout",
     "output_type": "stream",
     "text": [
      "The array;\n",
      "[[ 2  2  3 17  5]\n",
      " [15  7 10 16 16]\n",
      " [ 7 15  1 16  3]\n",
      " [11  6  7  8 18]\n",
      " [13  2 16 20  3]]\n",
      "Mean:9.56\n",
      "Median8.0\n",
      "Stn dev:6.013850679888884\n",
      "Variance:36.166399999999996\n"
     ]
    }
   ],
   "source": [
    "#assignment4\n",
    "#q-1\n",
    "my=np.random.randint(1,21,size=(5,5))\n",
    "print(f\"The array;\\n{my}\")\n",
    "me=np.mean(my)\n",
    "print(f\"Mean:{me}\")\n",
    "md=np.median(my)\n",
    "print(f\"Median{md}\")\n",
    "sd=np.std(my)\n",
    "print(f\"Stn dev:{sd}\")\n",
    "vr=np.var(my)\n",
    "print(f\"Variance:{vr}\")"
   ]
  },
  {
   "cell_type": "code",
   "execution_count": 80,
   "id": "a8300a7d",
   "metadata": {},
   "outputs": [
    {
     "name": "stdout",
     "output_type": "stream",
     "text": [
      "Original:\n",
      "[[1 2 3]\n",
      " [4 5 6]\n",
      " [7 8 9]]\n",
      "Normalized:\n",
      "[[-1.54919334 -1.161895   -0.77459667]\n",
      " [-0.38729833  0.          0.38729833]\n",
      " [ 0.77459667  1.161895    1.54919334]]\n"
     ]
    }
   ],
   "source": [
    "#q-2\n",
    "n= np.arange(1, 10).reshape((3, 3))\n",
    "print(f\"Original:\\n{n}\")\n",
    "Mean=np.mean(n)\n",
    "standard=np.std(n)\n",
    "nrml=(n-Mean)/standard\n",
    "print(f\"Normalized:\\n{nrml}\")\n",
    "# print(np.mean(nrml))    #op=0.0\n",
    "# print(np.std(nrml))     #op=1.0"
   ]
  },
  {
   "cell_type": "code",
   "execution_count": 7,
   "id": "3791e615",
   "metadata": {},
   "outputs": [
    {
     "name": "stdout",
     "output_type": "stream",
     "text": [
      "Original array:\n",
      "[[1 8 2]\n",
      " [4 9 9]\n",
      " [7 8 2]]\n",
      "1D array:\n",
      "[ 7 10  5]\n",
      "Broadcasting array:\n",
      "[[ 8 18  7]\n",
      " [11 19 14]\n",
      " [14 18  7]]\n"
     ]
    }
   ],
   "source": [
    "#assignment5\n",
    "#q-1\n",
    "var1= np.random.randint(1, 11, size=(3, 3))\n",
    "var2= np.random.randint(1, 11, size=(3,))\n",
    "print(\"Original array:\")\n",
    "print(var1)\n",
    "print(\"1D array:\")\n",
    "print(var2)\n",
    "\n",
    "var3= var1 + var2\n",
    "print(\"Broadcasting array:\")\n",
    "print(var3)"
   ]
  },
  {
   "cell_type": "code",
   "execution_count": 8,
   "id": "c6a0f360",
   "metadata": {},
   "outputs": [
    {
     "name": "stdout",
     "output_type": "stream",
     "text": [
      "Original array:\n",
      "[[ 6  6  6  8]\n",
      " [ 1  7  8  5]\n",
      " [10  1  4  1]\n",
      " [ 6  7  5 10]]\n",
      "1D array:\n",
      "[7 1 3 1]\n",
      "Resulting array:\n",
      "[[-1 -1 -1  1]\n",
      " [ 0  6  7  4]\n",
      " [ 7 -2  1 -2]\n",
      " [ 5  6  4  9]]\n"
     ]
    }
   ],
   "source": [
    "#q-2\n",
    "new1= np.random.randint(1, 11, size=(4, 4))\n",
    "new2 = np.random.randint(1, 11, size=(4,))\n",
    "print(\"Original array:\")\n",
    "print(new1)\n",
    "print(\"1D array:\")\n",
    "print(new2)\n",
    "\n",
    "sub= new1 - new2[:, np.newaxis]\n",
    "print(\"Resulting array:\")\n",
    "print(sub)"
   ]
  },
  {
   "cell_type": "code",
   "execution_count": 9,
   "id": "31450f68",
   "metadata": {},
   "outputs": [
    {
     "name": "stdout",
     "output_type": "stream",
     "text": [
      "Array 1:\n",
      "[[8 9 4]\n",
      " [2 9 1]]\n",
      "Array 2:\n",
      "[[1 1]\n",
      " [4 3]\n",
      " [7 4]]\n",
      "Matrix multiplication result:\n",
      "[[72 51]\n",
      " [45 33]]\n"
     ]
    }
   ],
   "source": [
    "#assignment6\n",
    "#q-2\n",
    "arr1 = np.random.randint(1, 11, size=(2, 3))\n",
    "arr2 = np.random.randint(1, 11, size=(3, 2))\n",
    "print(\"Array 1:\")\n",
    "print(arr1)\n",
    "print(\"Array 2:\")\n",
    "print(arr2)\n",
    "\n",
    "multi = np.dot(arr1, arr2)\n",
    "print(\"Matrix multiplication result:\")\n",
    "print(multi)\n"
   ]
  },
  {
   "cell_type": "code",
   "execution_count": 10,
   "id": "3b39351d",
   "metadata": {},
   "outputs": [
    {
     "name": "stdout",
     "output_type": "stream",
     "text": [
      "Original array:\n",
      "[[1 2 3]\n",
      " [4 5 6]\n",
      " [7 8 9]]\n",
      "Reshaped array (1, 9):\n",
      "[[1 2 3 4 5 6 7 8 9]]\n",
      "Reshaped array (9, 1):\n",
      "[[1]\n",
      " [2]\n",
      " [3]\n",
      " [4]\n",
      " [5]\n",
      " [6]\n",
      " [7]\n",
      " [8]\n",
      " [9]]\n"
     ]
    }
   ],
   "source": [
    "#assignment7\n",
    "#q-1\n",
    "x=np.arange(1, 10).reshape((3, 3))\n",
    "print(\"Original array:\")\n",
    "print(x)\n",
    "\n",
    "y=x.reshape((1, 9))\n",
    "print(\"Reshaped array (1, 9):\")\n",
    "print(y)\n",
    "\n",
    "z=y.reshape((9, 1))\n",
    "print(\"Reshaped array (9, 1):\")\n",
    "print(z)"
   ]
  },
  {
   "cell_type": "code",
   "execution_count": 11,
   "id": "88c36778",
   "metadata": {},
   "outputs": [
    {
     "name": "stdout",
     "output_type": "stream",
     "text": [
      "Original array:\n",
      "[[ 9 15  9  3  4]\n",
      " [ 8 15  9  7 18]\n",
      " [16  6  3 18 16]\n",
      " [10  4  9  9 16]\n",
      " [ 5 12 10 16 12]]\n",
      "Flattened array:\n",
      "[ 9 15  9  3  4  8 15  9  7 18 16  6  3 18 16 10  4  9  9 16  5 12 10 16\n",
      " 12]\n",
      "Reshaped array:\n",
      "[[ 9 15  9  3  4]\n",
      " [ 8 15  9  7 18]\n",
      " [16  6  3 18 16]\n",
      " [10  4  9  9 16]\n",
      " [ 5 12 10 16 12]]\n"
     ]
    }
   ],
   "source": [
    "#q-2\n",
    "a= np.random.randint(1, 21, size=(5, 5))\n",
    "print(\"Original array:\")\n",
    "print(a)\n",
    "\n",
    "b = a.flatten()\n",
    "print(\"Flattened array:\")\n",
    "print(b)\n",
    "\n",
    "c=b.reshape((5, 5))\n",
    "print(\"Reshaped array:\")\n",
    "print(c)"
   ]
  },
  {
   "cell_type": "code",
   "execution_count": 25,
   "id": "69b63282",
   "metadata": {},
   "outputs": [
    {
     "name": "stdout",
     "output_type": "stream",
     "text": [
      "Original array:\n",
      "[[ 7 18 18  1 19]\n",
      " [ 2 16  4 10 11]\n",
      " [ 1  6  1  3 18]\n",
      " [19  2  6  2 13]\n",
      " [16 19 19 13 19]]\n",
      "Corner elements:\n",
      "[ 7 19 16 19]\n"
     ]
    }
   ],
   "source": [
    "#assignment8\n",
    "#q-1\n",
    "array = np.random.randint(1, 21, size=(5, 5))\n",
    "print(\"Original array:\")\n",
    "print(array)\n",
    "\n",
    "corners = array[[0, 0, -1, -1], [0, -1, 0, -1]]\n",
    "print(\"Corner elements:\")\n",
    "print(corners)"
   ]
  },
  {
   "cell_type": "code",
   "execution_count": 26,
   "id": "f5ab469e",
   "metadata": {},
   "outputs": [
    {
     "name": "stdout",
     "output_type": "stream",
     "text": [
      "Original array:\n",
      "[[10 13  7  7]\n",
      " [11  4 20  1]\n",
      " [13  8 18 18]\n",
      " [14  4 20  9]]\n",
      "Modified array:\n",
      "[[10 10  7  7]\n",
      " [10  4 10  1]\n",
      " [10  8 10 10]\n",
      " [10  4 10  9]]\n"
     ]
    }
   ],
   "source": [
    "#q-2\n",
    "array= np.random.randint(1, 21, size=(4, 4))\n",
    "print(\"Original array:\")\n",
    "print(array)\n",
    "array[array > 10] = 10\n",
    "print(\"Modified array:\")\n",
    "print(array)"
   ]
  },
  {
   "cell_type": "code",
   "execution_count": 28,
   "id": "5d83e056",
   "metadata": {},
   "outputs": [
    {
     "name": "stdout",
     "output_type": "stream",
     "text": [
      "Original array:\n",
      "[('Yashi', 18, 58.7) ('Ashi', 20, 50.5) ('Rashi', 22, 60.4)\n",
      " ('Aditya', 12, 44.8) ('Rohan', 30, 78.9)]\n",
      "New Array:\n",
      "[('Aditya', 12, 44.8) ('Yashi', 18, 58.7) ('Ashi', 20, 50.5)\n",
      " ('Rashi', 22, 60.4) ('Rohan', 30, 78.9)]\n"
     ]
    }
   ],
   "source": [
    "#assignment9\n",
    "#q-1\n",
    "array= [('name', 'U10'), ('age', 'i4'), ('weight', 'f4')]\n",
    "value= np.array([('Yashi', 18,58.7), ('Ashi',20,50.5), ('Rashi',22,60.4),('Aditya',12,44.8),('Rohan',30,78.9)], dtype=array)\n",
    "print(\"Original array:\")\n",
    "print(value)\n",
    "\n",
    "by_age= np.sort(value, order='age')\n",
    "print(\"New Array:\")\n",
    "print(by_age)"
   ]
  },
  {
   "cell_type": "code",
   "execution_count": null,
   "id": "d1a3beff",
   "metadata": {},
   "outputs": [],
   "source": [
    "#q-2\n"
   ]
  },
  {
   "cell_type": "code",
   "execution_count": null,
   "id": "37e8ace2",
   "metadata": {},
   "outputs": [],
   "source": [
    "#assignmnet10\n",
    "#q-1"
   ]
  },
  {
   "cell_type": "code",
   "execution_count": null,
   "id": "1a0a474a",
   "metadata": {},
   "outputs": [],
   "source": [
    "#q-2"
   ]
  }
 ],
 "metadata": {
  "kernelspec": {
   "display_name": "base",
   "language": "python",
   "name": "python3"
  },
  "language_info": {
   "codemirror_mode": {
    "name": "ipython",
    "version": 3
   },
   "file_extension": ".py",
   "mimetype": "text/x-python",
   "name": "python",
   "nbconvert_exporter": "python",
   "pygments_lexer": "ipython3",
   "version": "3.12.7"
  }
 },
 "nbformat": 4,
 "nbformat_minor": 5
}
