{
 "cells": [
  {
   "cell_type": "markdown",
   "id": "211d9756",
   "metadata": {},
   "source": [
    "First Assignment"
   ]
  },
  {
   "cell_type": "code",
   "execution_count": 25,
   "id": "c531a2e2",
   "metadata": {},
   "outputs": [
    {
     "name": "stdout",
     "output_type": "stream",
     "text": [
      "HELLO WORLD!!\n"
     ]
    }
   ],
   "source": [
    "#QUESTION-1\n",
    "print(\"HELLO WORLD!!\")"
   ]
  },
  {
   "cell_type": "code",
   "execution_count": 24,
   "id": "63ac58bb",
   "metadata": {},
   "outputs": [
    {
     "name": "stdout",
     "output_type": "stream",
     "text": [
      "HELLO! YASHI\n"
     ]
    }
   ],
   "source": [
    "#QUS-2\n",
    "name=input(\"ENTER YOUR NAME:\")\n",
    "print(\"HELLO!\",name)"
   ]
  },
  {
   "cell_type": "code",
   "execution_count": 21,
   "id": "a7efd8a5",
   "metadata": {},
   "outputs": [
    {
     "name": "stdout",
     "output_type": "stream",
     "text": [
      "NUMBER IS POSITIVE.\n"
     ]
    }
   ],
   "source": [
    "#Q-3\n",
    "numb_1= float(input(\"ENTER NUMBER :\"))\n",
    "if numb_1 > 0:\n",
    "    print(\"NUMBER IS POSITIVE.\")\n",
    "elif numb_1 < 0:\n",
    "    print(\"NUMBER IS NEGATIVE.\")\n",
    "else:\n",
    " print(\"NUMBER IN ZERO.\")"
   ]
  },
  {
   "cell_type": "code",
   "execution_count": 20,
   "id": "50758d98",
   "metadata": {},
   "outputs": [
    {
     "name": "stdout",
     "output_type": "stream",
     "text": [
      "C IS LARGEST.\n"
     ]
    }
   ],
   "source": [
    "# Q-4\n",
    "a=float(input(\"ENTER A =\")) \n",
    "b=float(input(\"ENTER B =\")) \n",
    "c=float(input(\"ENTER C =\")) \n",
    "if a>=b and a>=c:\n",
    "    print(\"A IS LARGEST.\")\n",
    "elif b>=a and b>=c:\n",
    "    print(\"B IS LARGEST.\")\n",
    "else:\n",
    "    print(\"C IS LARGEST.\")\n"
   ]
  },
  {
   "cell_type": "code",
   "execution_count": 19,
   "id": "85534720",
   "metadata": {},
   "outputs": [
    {
     "name": "stdout",
     "output_type": "stream",
     "text": [
      "The factorial of 5 is 120\n"
     ]
    }
   ],
   "source": [
    "#Q-5\n",
    "num = int(input(\"Enter a positive number: \"))\n",
    "\n",
    "if num < 0:\n",
    "    print(\"ENTERED A NEGATIVE NUMBER!!.\")\n",
    "else:\n",
    "    factorial = 1\n",
    "\n",
    "    for i in range(1, num + 1):\n",
    "        factorial *= i\n",
    "    print(f\"The factorial of {num} is {factorial}\")"
   ]
  },
  {
   "cell_type": "code",
   "execution_count": 17,
   "id": "d9b8cb8c",
   "metadata": {},
   "outputs": [
    {
     "name": "stdout",
     "output_type": "stream",
     "text": [
      "MY NAME IS YASHI.\n",
      "245\n",
      "245.667\n",
      "True\n",
      "False\n",
      "<class 'str'>\n",
      "<class 'int'>\n",
      "<class 'float'>\n",
      "<class 'bool'>\n",
      "<class 'bool'>\n"
     ]
    }
   ],
   "source": [
    "#Q-6\n",
    "a=(\"MY NAME IS YASHI.\")\n",
    "A=245\n",
    "b=245.667\n",
    "B=True\n",
    "c=False\n",
    "print(a)\n",
    "print(A)\n",
    "print(b)\n",
    "print(B)\n",
    "print(c)\n",
    "print(type(a))\n",
    "print(type(A))\n",
    "print(type(b))\n",
    "print(type(B))\n",
    "print(type(c))"
   ]
  },
  {
   "cell_type": "code",
   "execution_count": 16,
   "id": "f4015727",
   "metadata": {},
   "outputs": [
    {
     "name": "stdout",
     "output_type": "stream",
     "text": [
      "After Change First = hb\n",
      "After Change Second = yz\n"
     ]
    }
   ],
   "source": [
    "#Q-7\n",
    "first=input('ENTER FIRST :')\n",
    "second=input(\"ENTER SECOND :\")\n",
    "first,second= second,first\n",
    "print(\"After Change First =\",first)\n",
    "print(\"After Change Second =\",second)"
   ]
  },
  {
   "cell_type": "code",
   "execution_count": 1,
   "id": "e6c8e1d2",
   "metadata": {},
   "outputs": [
    {
     "name": "stdout",
     "output_type": "stream",
     "text": [
      "88.0°C is equal to 190.4°F\n"
     ]
    }
   ],
   "source": [
    "#Que-8\n",
    "def celsius_to_fahrenheit(celsius):\n",
    "    fahrenheit = (celsius * 9/5) + 32\n",
    "    return fahrenheit\n",
    "\n",
    "celsius = float(input(\"Enter temperature in Celsius: \"))\n",
    "fahrenheit = celsius_to_fahrenheit(celsius)\n",
    "print(f\"{celsius}°C is equal to {fahrenheit}°F\")"
   ]
  },
  {
   "cell_type": "code",
   "execution_count": 15,
   "id": "ff919e0f",
   "metadata": {},
   "outputs": [
    {
     "name": "stdout",
     "output_type": "stream",
     "text": [
      "YOUR STRING : helloyashi\n"
     ]
    }
   ],
   "source": [
    "#Q-9\n",
    "string1= input(\"ENTER FIRST:\")\n",
    "string2= input(\"ENTER SECOND:\")\n",
    "final_s= string1 + string2\n",
    "print(\"YOUR STRING :\",final_s)"
   ]
  },
  {
   "cell_type": "code",
   "execution_count": 3,
   "id": "e7525925",
   "metadata": {},
   "outputs": [
    {
     "name": "stdout",
     "output_type": "stream",
     "text": [
      "x is an integer\n"
     ]
    }
   ],
   "source": [
    "#Q-10\n",
    "x = 42\n",
    "if isinstance(x, int):\n",
    "    print(\"x is an integer\")\n",
    "else:\n",
    "    print(\"x is not an integer\")"
   ]
  },
  {
   "cell_type": "code",
   "execution_count": 12,
   "id": "9c8d52df",
   "metadata": {},
   "outputs": [
    {
     "name": "stdout",
     "output_type": "stream",
     "text": [
      "50\n",
      "30\n",
      "400\n",
      "4.0\n"
     ]
    }
   ],
   "source": [
    "#Q-11\n",
    "add= 10+40\n",
    "subt= 40-10\n",
    "multiply= 10*40\n",
    "division= 40/10\n",
    "print(add)\n",
    "print(subt)\n",
    "print(multiply)\n",
    "print(division)"
   ]
  },
  {
   "cell_type": "code",
   "execution_count": 11,
   "id": "77d7dd51",
   "metadata": {},
   "outputs": [
    {
     "name": "stdout",
     "output_type": "stream",
     "text": [
      "False\n",
      "True\n",
      "False\n",
      "True\n",
      "False\n",
      "True\n"
     ]
    }
   ],
   "source": [
    "#Q-12\n",
    "a= 100\n",
    "b= 500\n",
    "equal= (a==b)\n",
    "print(equal)\n",
    "not_1 = (a!=b)\n",
    "print(not_1)\n",
    "greater = (a>b)\n",
    "print(greater)\n",
    "less= (a<b)\n",
    "print(less)\n",
    "g_2= (a>=b)\n",
    "print(g_2)\n",
    "l_2= (a<=b)\n",
    "print(l_2)\n"
   ]
  },
  {
   "cell_type": "code",
   "execution_count": 10,
   "id": "f58923dc",
   "metadata": {},
   "outputs": [
    {
     "name": "stdout",
     "output_type": "stream",
     "text": [
      "False\n",
      "True\n",
      "False\n"
     ]
    }
   ],
   "source": [
    "#Q-13\n",
    "a= float(input(\"ENTER A:\"))\n",
    "b= float(input(\"ENTER B:\"))\n",
    "opt_1= (a>b and a<b)\n",
    "opt_2= (a>b or a<b)\n",
    "opt_3= not(a>b ,  a<b)\n",
    "print(opt_1)\n",
    "print(opt_2)\n",
    "print(opt_3)"
   ]
  },
  {
   "cell_type": "code",
   "execution_count": 9,
   "id": "4366e8c4",
   "metadata": {},
   "outputs": [
    {
     "name": "stdout",
     "output_type": "stream",
     "text": [
      "SQUARE OF YOUR NUMBER: 1190.25\n"
     ]
    }
   ],
   "source": [
    "#Q-14\n",
    "numb=float(input(\"ENTER NUMBER :\"))\n",
    "sq= (numb**2)\n",
    "print(\"SQUARE OF YOUR NUMBER:\", sq)"
   ]
  },
  {
   "cell_type": "code",
   "execution_count": 8,
   "id": "edab741f",
   "metadata": {},
   "outputs": [
    {
     "name": "stdout",
     "output_type": "stream",
     "text": [
      "Number is odd 3.\n"
     ]
    }
   ],
   "source": [
    "#q-15\n",
    "num = int(input(\"Enter a number: \"))\n",
    "if num % 2 == 0:\n",
    "    print(f\"Number is even {num}.\")\n",
    "else:\n",
    "    print(f\"Number is odd {num}.\")"
   ]
  },
  {
   "cell_type": "code",
   "execution_count": 7,
   "id": "5c64dec5",
   "metadata": {},
   "outputs": [
    {
     "name": "stdout",
     "output_type": "stream",
     "text": [
      "The sum of the first natural numbers is: 3081\n"
     ]
    }
   ],
   "source": [
    "#Q-16\n",
    "y = int(input(\"Enter a positive number: \"))\n",
    "if y <= 0:\n",
    "    print(\"ENTER POSITIVE.\")\n",
    "else:\n",
    "    total = y * (y + 1) // 2  \n",
    "    print(\"The sum of the first natural numbers is:\", total)"
   ]
  },
  {
   "cell_type": "code",
   "execution_count": 6,
   "id": "474401df",
   "metadata": {},
   "outputs": [
    {
     "name": "stdout",
     "output_type": "stream",
     "text": [
      "2025 IS NOT A LEAP YEAR.\n"
     ]
    }
   ],
   "source": [
    "#Q-17\n",
    "year = int(input(\"ENTER A YEAR:\"))\n",
    "if year/4 ==0:\n",
    " print(f\"{year} IS A LEAP YEAR.\")\n",
    "\n",
    "else:\n",
    "    print(f\"{year} IS NOT A LEAP YEAR.\")"
   ]
  },
  {
   "cell_type": "code",
   "execution_count": 5,
   "id": "b5bad84f",
   "metadata": {},
   "outputs": [
    {
     "name": "stdout",
     "output_type": "stream",
     "text": [
      "REVERSE STRING: olleh\n",
      "THE STRING IS:hello\n"
     ]
    }
   ],
   "source": [
    "#Q-18\n",
    "string1= input(\"ENTER STRING:\")\n",
    "reversed=string1[::-1]\n",
    "print(\"REVERSE STRING:\",reversed)\n",
    "print(f\"THE STRING IS:{string1}\")"
   ]
  },
  {
   "cell_type": "code",
   "execution_count": 3,
   "id": "04ccef75",
   "metadata": {},
   "outputs": [
    {
     "name": "stdout",
     "output_type": "stream",
     "text": [
      "THIS IS A PALINDROME.\n",
      "abba\n"
     ]
    }
   ],
   "source": [
    "#Q-19\n",
    "string=input(\"ENTER A STRING=\")\n",
    "string_111= string.replace(\" \",\"\").lower()\n",
    "if string_111==string:\n",
    "    print(\"THIS IS A PALINDROME.\")\n",
    "else:\n",
    "    print(\"THIS IS NOT A PALINDROME.\")\n",
    "print(string)"
   ]
  },
  {
   "cell_type": "code",
   "execution_count": 1,
   "id": "0efff1a9",
   "metadata": {},
   "outputs": [
    {
     "name": "stdout",
     "output_type": "stream",
     "text": [
      "['False', 'Hello', 'Hiee', 'True', 'YASHI']\n",
      "[1, 7, 8, 8, 9, 10, 278, 4619, 5467, 36892, 239178]\n"
     ]
    }
   ],
   "source": [
    "#Q-20\n",
    "list1= ['YASHI','Hello',\"True\", 'False', \"Hiee\"]\n",
    "list2= [1,8,9,239178,36892,278,4619,7,8,5467,10]\n",
    "list1.sort()\n",
    "list2.sort()\n",
    "print(list1)\n",
    "print(list2)"
   ]
  }
 ],
 "metadata": {
  "kernelspec": {
   "display_name": "base",
   "language": "python",
   "name": "python3"
  },
  "language_info": {
   "codemirror_mode": {
    "name": "ipython",
    "version": 3
   },
   "file_extension": ".py",
   "mimetype": "text/x-python",
   "name": "python",
   "nbconvert_exporter": "python",
   "pygments_lexer": "ipython3",
   "version": "3.12.7"
  }
 },
 "nbformat": 4,
 "nbformat_minor": 5
}
