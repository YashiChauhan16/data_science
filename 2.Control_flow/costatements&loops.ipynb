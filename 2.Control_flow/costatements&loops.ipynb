{
 "cells": [
  {
   "cell_type": "markdown",
   "id": "d83c4170",
   "metadata": {},
   "source": [
    "CONDITIONAL STATEMENTS & LOOPS ASSIGNMENT."
   ]
  },
  {
   "cell_type": "code",
   "execution_count": 3,
   "id": "1f52e3c1",
   "metadata": {},
   "outputs": [
    {
     "name": "stdout",
     "output_type": "stream",
     "text": [
      "NUMBER IS POSITIVE. 9.0\n"
     ]
    }
   ],
   "source": [
    "#QUESTION-1\n",
    "numb=float(input(\"ENTER A NUMBER:\"))\n",
    "if numb>=0:\n",
    "    print(\"NUMBER IS POSITIVE.\", numb)"
   ]
  },
  {
   "cell_type": "code",
   "execution_count": 5,
   "id": "fac7cdfd",
   "metadata": {},
   "outputs": [
    {
     "name": "stdout",
     "output_type": "stream",
     "text": [
      "NUMBER IS NEGATIVE. -9.0\n"
     ]
    }
   ],
   "source": [
    "#QUESTION-2\n",
    "numb2=float(input(\"ENTER FIRST:\"))\n",
    "if numb2>=0:\n",
    "    print(\"NUMBER IS POSITIVE.\", numb2)\n",
    "else:\n",
    "    print(\"NUMBER IS NEGATIVE.\",numb2)"
   ]
  },
  {
   "cell_type": "code",
   "execution_count": 7,
   "id": "74507561",
   "metadata": {},
   "outputs": [
    {
     "name": "stdout",
     "output_type": "stream",
     "text": [
      "NUMBER IS NEGATIVE. -89.0\n"
     ]
    }
   ],
   "source": [
    "#QUESTION-3\n",
    "numb_3=float(input(\"ENTER A VALUE:\"))\n",
    "if numb_3>=0:\n",
    "    print(\"NUMBER IS POSITIVE.\",numb_3)\n",
    "elif numb_3 <= 0:\n",
    "    print(\"NUMBER IS NEGATIVE.\",numb_3)\n",
    "else:\n",
    "    print(\"NUMBER IS ZERO.\",numb_3)"
   ]
  },
  {
   "cell_type": "code",
   "execution_count": 9,
   "id": "c9a9cca7",
   "metadata": {},
   "outputs": [
    {
     "name": "stdout",
     "output_type": "stream",
     "text": [
      "NUMBER IS POSITIVE AND ODD.\n"
     ]
    }
   ],
   "source": [
    "#QUESTION-4\n",
    "numb_4 = float(input(\"ENTER NUMBER:\"))\n",
    "if numb_4 >= 0:\n",
    "    if numb_4 % 2 == 0:\n",
    "        print(\"NUMBER IS POSITIVE AND EVEN.\")\n",
    "    else:\n",
    "        print(\"NUMBER IS POSITIVE AND ODD.\")\n",
    "else:\n",
    "    print(\"NUMBER IS NEGATIVE.\")\n"
   ]
  },
  {
   "cell_type": "code",
   "execution_count": 10,
   "id": "1dcc07a1",
   "metadata": {},
   "outputs": [
    {
     "name": "stdout",
     "output_type": "stream",
     "text": [
      "1\n",
      "2\n",
      "3\n",
      "4\n",
      "5\n",
      "6\n",
      "7\n",
      "8\n",
      "9\n",
      "10\n"
     ]
    }
   ],
   "source": [
    "#LOOPS\n",
    "# Q-5\n",
    "for q in range(1,11):\n",
    "    print(q)"
   ]
  },
  {
   "cell_type": "code",
   "execution_count": 11,
   "id": "991a34d4",
   "metadata": {},
   "outputs": [
    {
     "name": "stdout",
     "output_type": "stream",
     "text": [
      "1\n",
      "2\n",
      "3\n",
      "4\n",
      "5\n",
      "6\n",
      "7\n",
      "8\n",
      "9\n",
      "10\n"
     ]
    }
   ],
   "source": [
    "#Question-6\n",
    "a= 1\n",
    "while a<=10:\n",
    "    print(a)\n",
    "    a+=1"
   ]
  },
  {
   "cell_type": "code",
   "execution_count": 12,
   "id": "773ac61d",
   "metadata": {},
   "outputs": [
    {
     "name": "stdout",
     "output_type": "stream",
     "text": [
      "* * * * * \n",
      "* * * * * \n",
      "* * * * * \n",
      "* * * * * \n",
      "* * * * * \n"
     ]
    }
   ],
   "source": [
    "#Question-7\n",
    "for q in range(5):\n",
    "    for e in range(5):\n",
    "        print(\"*\", end=\" \")\n",
    "    print() "
   ]
  },
  {
   "cell_type": "code",
   "execution_count": 13,
   "id": "1f39abee",
   "metadata": {},
   "outputs": [
    {
     "name": "stdout",
     "output_type": "stream",
     "text": [
      "Total is 5\n"
     ]
    }
   ],
   "source": [
    "#Question-8\n",
    "sum=0\n",
    "while True:\n",
    "    a=int(input(\"ENTER NUMBER(stop=0):\"))\n",
    "    if a == 0:\n",
    "        break\n",
    "    sum += a\n",
    "    print(f\"Total is {sum}\")"
   ]
  },
  {
   "cell_type": "code",
   "execution_count": 14,
   "id": "194642b4",
   "metadata": {},
   "outputs": [
    {
     "name": "stdout",
     "output_type": "stream",
     "text": [
      "1\n",
      "2\n",
      "3\n",
      "4\n",
      "6\n",
      "7\n",
      "8\n",
      "9\n",
      "10\n"
     ]
    }
   ],
   "source": [
    "#Question-9\n",
    "for i in range(1,11):\n",
    "    if i == 5:\n",
    "        continue\n",
    "    print(i)"
   ]
  },
  {
   "cell_type": "code",
   "execution_count": 15,
   "id": "05e5b881",
   "metadata": {},
   "outputs": [],
   "source": [
    "#Question-10\n",
    "def empty_funt():\n",
    "    pass\n",
    "\n",
    "# print(empty_funt()) #returns none"
   ]
  },
  {
   "cell_type": "code",
   "execution_count": 18,
   "id": "aa4522e8",
   "metadata": {},
   "outputs": [
    {
     "name": "stdout",
     "output_type": "stream",
     "text": [
      "1\n",
      "2\n",
      "3\n",
      "4\n",
      "5\n",
      "6\n",
      "7\n",
      "8\n"
     ]
    }
   ],
   "source": [
    "#Question-11\n",
    "z= int(input(\"ENTER A NUMBER:\"))\n",
    "for a in range(1,z+1):\n",
    "    if z%2==0:\n",
    "        print(a)\n",
    "#print\n",
    "#(z) it prints z(the enteres number)\n",
    "#after ever number."
   ]
  },
  {
   "cell_type": "code",
   "execution_count": null,
   "id": "d5de3df2",
   "metadata": {},
   "outputs": [],
   "source": [
    "#q-12\n"
   ]
  },
  {
   "cell_type": "code",
   "execution_count": 19,
   "id": "494ceaf1",
   "metadata": {},
   "outputs": [
    {
     "name": "stdout",
     "output_type": "stream",
     "text": [
      "The factorial of 7 is 5040\n"
     ]
    }
   ],
   "source": [
    "#Question-13\n",
    "num = int(input(\"Enter a number: \"))\n",
    "if num < 0:\n",
    "    print(\"Not for negative numbers.\")\n",
    "else:\n",
    "    factorial = 1\n",
    "    i = 1\n",
    "    while i <= num:\n",
    "        factorial *= i\n",
    "        i += 1\n",
    "    print(f\"The factorial of {num} is {factorial}\")"
   ]
  },
  {
   "cell_type": "code",
   "execution_count": null,
   "id": "0a10b611",
   "metadata": {},
   "outputs": [],
   "source": [
    "#q-14"
   ]
  },
  {
   "cell_type": "code",
   "execution_count": 20,
   "id": "391f4ff1",
   "metadata": {},
   "outputs": [
    {
     "name": "stdout",
     "output_type": "stream",
     "text": [
      "89 is a prime number.\n"
     ]
    }
   ],
   "source": [
    "#Question-15\n",
    "num = int(input(\"ENTER A NUMBER:\"))\n",
    "if num <= 1:\n",
    "    print(f\"{num} is not a prime number.\")\n",
    "else:\n",
    "    prime = True\n",
    "    for i in range(2, int(num ** 0.5) + 1):\n",
    "        if num % i == 0:\n",
    "            prime = False\n",
    "            break\n",
    "    if prime:\n",
    "        print(f\"{num} is a prime number.\")\n",
    "    else:\n",
    "        print(f\"{num} is not a prime number.\")"
   ]
  }
 ],
 "metadata": {
  "kernelspec": {
   "display_name": "base",
   "language": "python",
   "name": "python3"
  },
  "language_info": {
   "codemirror_mode": {
    "name": "ipython",
    "version": 3
   },
   "file_extension": ".py",
   "mimetype": "text/x-python",
   "name": "python",
   "nbconvert_exporter": "python",
   "pygments_lexer": "ipython3",
   "version": "3.12.7"
  }
 },
 "nbformat": 4,
 "nbformat_minor": 5
}
