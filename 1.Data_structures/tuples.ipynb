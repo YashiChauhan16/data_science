{
 "cells": [
  {
   "cell_type": "markdown",
   "id": "25bc32f9",
   "metadata": {},
   "source": [
    "TUPLE ASSIGNMENTS."
   ]
  },
  {
   "cell_type": "code",
   "execution_count": 1,
   "id": "655fc839",
   "metadata": {},
   "outputs": [
    {
     "name": "stdout",
     "output_type": "stream",
     "text": [
      "(1, 2, 3, 4, 5, 6, 7, 8, 9, 10)\n"
     ]
    }
   ],
   "source": [
    "# Q-1\n",
    "my_tuple = tuple(range(1, 11))\n",
    "print(my_tuple)"
   ]
  },
  {
   "cell_type": "code",
   "execution_count": 2,
   "id": "23aa57dc",
   "metadata": {},
   "outputs": [
    {
     "name": "stdout",
     "output_type": "stream",
     "text": [
      "10\n",
      "1\n",
      "6\n",
      "10\n"
     ]
    }
   ],
   "source": [
    "# Q-2\n",
    "print(len(my_tuple))\n",
    "print(my_tuple[0])\n",
    "print(my_tuple[5])\n",
    "print(my_tuple[-1])"
   ]
  },
  {
   "cell_type": "code",
   "execution_count": 3,
   "id": "95626b8e",
   "metadata": {},
   "outputs": [
    {
     "name": "stdout",
     "output_type": "stream",
     "text": [
      "(1, 2, 3)\n",
      "(3, 4, 5)\n",
      "(7, 8, 9)\n"
     ]
    }
   ],
   "source": [
    "# Q-3\n",
    "print(my_tuple[0:3])\n",
    "print(my_tuple[2:5])\n",
    "print(my_tuple[-4:-1])"
   ]
  },
  {
   "cell_type": "code",
   "execution_count": 1,
   "id": "52813d97",
   "metadata": {},
   "outputs": [
    {
     "name": "stdout",
     "output_type": "stream",
     "text": [
      "Matrix:\n",
      "(1, 2, 3)\n",
      "(4, 5, 6)\n",
      "(7, 8, 9)\n",
      "Element at second row and third column: 6\n"
     ]
    }
   ],
   "source": [
    "#Q-4\n",
    "mat = (\n",
    "    (1, 2, 3),\n",
    "    (4, 5, 6),\n",
    "    (7, 8, 9)\n",
    ")\n",
    "print(\"Matrix:\")\n",
    "for n in mat:\n",
    "    print(n)\n",
    "print(f\"Element at second row and third column: {mat[1][2]}\")"
   ]
  },
  {
   "cell_type": "code",
   "execution_count": 4,
   "id": "04cdc7e5",
   "metadata": {},
   "outputs": [
    {
     "name": "stdout",
     "output_type": "stream",
     "text": [
      "(1, 2, 3, 4, 5, 6)\n"
     ]
    }
   ],
   "source": [
    "# Q-5\n",
    "a= (1,2,3)\n",
    "b=(4,5,6)\n",
    "new= a+b \n",
    "print(new)"
   ]
  },
  {
   "cell_type": "code",
   "execution_count": 5,
   "id": "360e5af1",
   "metadata": {},
   "outputs": [
    {
     "name": "stdout",
     "output_type": "stream",
     "text": [
      "(9, 8, 7, 6, 9, 7, 6, 6, 8, 5, 8)\n",
      "3\n",
      "3\n"
     ]
    }
   ],
   "source": [
    "#Q-6\n",
    "c= (9,8,7,6,9,7,6,6,8,5,8)\n",
    "d = c.count(8)\n",
    "e= c.index(6)\n",
    "print(c)\n",
    "print(d)\n",
    "print(e)"
   ]
  },
  {
   "cell_type": "code",
   "execution_count": 6,
   "id": "09367034",
   "metadata": {},
   "outputs": [
    {
     "name": "stdout",
     "output_type": "stream",
     "text": [
      "1 2 3 4 5\n"
     ]
    }
   ],
   "source": [
    "#Q-7\n",
    "tuple = (1,2,3,4,5)\n",
    "a,b,c,d,e= tuple\n",
    "print(a,b,c,d,e)\n"
   ]
  },
  {
   "cell_type": "code",
   "execution_count": 16,
   "id": "f5113881",
   "metadata": {},
   "outputs": [
    {
     "name": "stdout",
     "output_type": "stream",
     "text": [
      "(1, 2, 3, 4, 5)\n"
     ]
    }
   ],
   "source": [
    "#Q-8\n",
    "q=[1,2,3,4,5]\n",
    "w=tuple(q)\n",
    "print(w)"
   ]
  },
  {
   "cell_type": "code",
   "execution_count": 17,
   "id": "3c65d031",
   "metadata": {},
   "outputs": [
    {
     "name": "stdout",
     "output_type": "stream",
     "text": [
      "((9, 8, 7), (6, 5, 4), (3, 2, 1))\n"
     ]
    }
   ],
   "source": [
    "# Q-9\n",
    "m= (\n",
    "    (9,8,7),\n",
    "    (6,5,4),\n",
    "    (3,2,1)\n",
    ")\n",
    "print(m)"
   ]
  },
  {
   "cell_type": "code",
   "execution_count": 18,
   "id": "fa7d9f2c",
   "metadata": {},
   "outputs": [
    {
     "name": "stdout",
     "output_type": "stream",
     "text": [
      "(1, 2, 3, 4, 5, 6)\n"
     ]
    }
   ],
   "source": [
    "# Q-10\n",
    "new_tuple= (1,2,3,4,5)\n",
    "new_list= list(new_tuple)\n",
    "new_list.append(6)\n",
    "new_tuple= tuple(new_list)\n",
    "print(new_tuple)"
   ]
  },
  {
   "cell_type": "code",
   "execution_count": 19,
   "id": "3b6686aa",
   "metadata": {},
   "outputs": [
    {
     "name": "stdout",
     "output_type": "stream",
     "text": [
      "Yashi\n"
     ]
    }
   ],
   "source": [
    "#Q-11\n",
    "string = \"Yashi\"\n",
    "mytuple = tuple(string)\n",
    "new_string = ''.join(mytuple)\n",
    "print(new_string)"
   ]
  },
  {
   "cell_type": "code",
   "execution_count": 20,
   "id": "3e9ade25",
   "metadata": {},
   "outputs": [
    {
     "name": "stdout",
     "output_type": "stream",
     "text": [
      "{(1, 2): 3, (4, 5): 6, (7, 8): 9}\n"
     ]
    }
   ],
   "source": [
    "#Q-12\n",
    "dict_1 = {\n",
    "    (1, 2): 3,\n",
    "    (4, 5): 6,\n",
    "    (7, 8): 9\n",
    "}\n",
    "print(dict_1)"
   ]
  },
  {
   "cell_type": "code",
   "execution_count": 21,
   "id": "62e40e38",
   "metadata": {},
   "outputs": [
    {
     "name": "stdout",
     "output_type": "stream",
     "text": [
      "1\n",
      "2\n",
      "3\n",
      "4\n",
      "5\n",
      "6\n",
      "7\n",
      "8\n",
      "9\n"
     ]
    }
   ],
   "source": [
    "# Q-13\n",
    "new_2 = (\n",
    "    (1, 2, 3),\n",
    "    (4, 5, 6),\n",
    "    (7, 8, 9)\n",
    ")\n",
    "for q in new_2:\n",
    "    for w in q:\n",
    "        print(w)"
   ]
  },
  {
   "cell_type": "code",
   "execution_count": 22,
   "id": "aa28fd3d",
   "metadata": {},
   "outputs": [
    {
     "name": "stdout",
     "output_type": "stream",
     "text": [
      "{1, 2, 3, 4}\n"
     ]
    }
   ],
   "source": [
    "# Q-14\n",
    "tuple_1 = (1,2,3,4,2,1,4,4)\n",
    "set_1 = set(tuple_1)\n",
    "print(set_1)"
   ]
  },
  {
   "cell_type": "code",
   "execution_count": 15,
   "id": "4bca6545",
   "metadata": {},
   "outputs": [
    {
     "name": "stdout",
     "output_type": "stream",
     "text": [
      "Minimum: 1\n",
      "Maximum: 5\n"
     ]
    }
   ],
   "source": [
    "#Q-15\n",
    "def minm(a):\n",
    "    return min(a)\n",
    "\n",
    "def maxm(a):\n",
    "    return max(a)\n",
    "\n",
    "def sum_t(a):\n",
    "    return sum(a)\n",
    "\n",
    "sample_tpl = (1, 2, 3, 4, 5)\n",
    "print(f\"Minimum: {minm(sample_tpl)}\")\n",
    "print(f\"Maximum: {maxm(sample_tpl)}\")"
   ]
  }
 ],
 "metadata": {
  "kernelspec": {
   "display_name": "base",
   "language": "python",
   "name": "python3"
  },
  "language_info": {
   "codemirror_mode": {
    "name": "ipython",
    "version": 3
   },
   "file_extension": ".py",
   "mimetype": "text/x-python",
   "name": "python",
   "nbconvert_exporter": "python",
   "pygments_lexer": "ipython3",
   "version": "3.12.7"
  }
 },
 "nbformat": 4,
 "nbformat_minor": 5
}
