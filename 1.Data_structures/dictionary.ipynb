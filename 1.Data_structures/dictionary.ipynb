{
 "cells": [
  {
   "cell_type": "markdown",
   "id": "866d54eb",
   "metadata": {},
   "source": [
    "DICTIONARY ASSIGNMENT."
   ]
  },
  {
   "cell_type": "code",
   "execution_count": null,
   "id": "7c7930f0",
   "metadata": {},
   "outputs": [],
   "source": []
  }
 ],
 "metadata": {
  "kernelspec": {
   "display_name": "base",
   "language": "python",
   "name": "python3"
  },
  "language_info": {
   "name": "python",
   "version": "3.12.7"
  }
 },
 "nbformat": 4,
 "nbformat_minor": 5
}
