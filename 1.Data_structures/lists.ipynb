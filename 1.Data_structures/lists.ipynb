{
 "cells": [
  {
   "cell_type": "markdown",
   "id": "bd3ff0e3",
   "metadata": {},
   "source": [
    "LISTS ASSIGNMENT"
   ]
  },
  {
   "cell_type": "code",
   "execution_count": null,
   "id": "7e41919a",
   "metadata": {},
   "outputs": [],
   "source": [
    "#QUESTION-1\n",
    "my_list=list(range(1,21))\n",
    "print(my_list)"
   ]
  },
  {
   "cell_type": "code",
   "execution_count": null,
   "id": "3fced6db",
   "metadata": {},
   "outputs": [],
   "source": [
    "#QUESTION-2\n",
    "print(len(my_list))\n",
    "print(my_list[0])\n",
    "print(my_list[10])\n",
    "print(my_list[19]) \n"
   ]
  },
  {
   "cell_type": "code",
   "execution_count": null,
   "id": "223ab8f0",
   "metadata": {},
   "outputs": [],
   "source": [
    "#QUESTION-3\n",
    "print(my_list)\n",
    "print(my_list[0:6])\n",
    "print(my_list[15:21])\n",
    "print(my_list[5:15])"
   ]
  },
  {
   "cell_type": "code",
   "execution_count": null,
   "id": "99e63816",
   "metadata": {},
   "outputs": [],
   "source": [
    "#QUESTION-4\n",
    "square= [ q**2 for q in range(1,11)]\n",
    "print(square)\n"
   ]
  },
  {
   "cell_type": "code",
   "execution_count": null,
   "id": "ef57830f",
   "metadata": {},
   "outputs": [],
   "source": [
    "#QUESTION-5\n",
    "newlist= (q for q in my_list if q%2==0)\n",
    "print(newlist)"
   ]
  },
  {
   "cell_type": "code",
   "execution_count": null,
   "id": "8abb6411",
   "metadata": {},
   "outputs": [],
   "source": [
    "#QUESTION-6\n",
    "list_2= [10,100,79,80,10,45,76,79,10,300,67]\n",
    "abcd= list_2.sort()\n",
    "print(list_2)\n",
    "xyz= list_2.sort(reverse=True)\n",
    "print(list_2)\n",
    "my_set= list(set(list_2))\n",
    "print(f\"List with duplicates removed: {my_set}\")\n"
   ]
  },
  {
   "cell_type": "code",
   "execution_count": null,
   "id": "56995097",
   "metadata": {},
   "outputs": [],
   "source": [
    "# QUESTION-7\n",
    "Matrix = [\n",
    "    [1, 2, 3],\n",
    "    [7, 8, 9],\n",
    "    [4, 5, 6]\n",
    "]\n",
    "print(\"Matrix:\")\n",
    "for a in Matrix:\n",
    "    print(a)\n",
    "print(f\"Element at 2nd and 3rd column: {Matrix[1][2]}\")"
   ]
  },
  {
   "cell_type": "code",
   "execution_count": 11,
   "id": "c005da35",
   "metadata": {},
   "outputs": [
    {
     "name": "stdout",
     "output_type": "stream",
     "text": [
      "Descending order:\n",
      "{'Name': 'Yashi', 'Score': 98}\n",
      "{'Name': 'Ayush', 'Score': 95}\n",
      "{'Name': 'Ashi', 'Score': 86}\n",
      "{'Name': 'Abhi', 'Score': 67}\n"
     ]
    }
   ],
   "source": [
    "#QUESTION-8\n",
    "students =[\n",
    "     {'Name':'Yashi' , 'Score':98},\n",
    "    {'Name':'Ashi' , 'Score': 86}, \n",
    "    {'Name':'Abhi' , 'Score': 67}, \n",
    "    {'Name':'Ayush' , 'Score': 95} \n",
    "]\n",
    "\n",
    "sorted_students = sorted(students, key=lambda x: x['Score'], reverse=True)\n",
    "print(\"Descending order:\")\n",
    "for student in sorted_students:\n",
    "    print(student)"
   ]
  },
  {
   "cell_type": "code",
   "execution_count": 2,
   "id": "debbbe54",
   "metadata": {},
   "outputs": [
    {
     "name": "stdout",
     "output_type": "stream",
     "text": [
      "Original: [1, 2, 3, 4, 5, 6, 7, 8, 9, 10]\n",
      "Modified: [1, 2, 4, 6, 8, 99, 9, 10]\n"
     ]
    }
   ],
   "source": [
    "#q-11\n",
    "a = list(range(1, 11))\n",
    "print(f\"Original: {a}\")\n",
    "del a[6]\n",
    "del a[4]\n",
    "del a[2]\n",
    "a.insert(5, 99)\n",
    "print(f\"Modified: {a}\")"
   ]
  },
  {
   "cell_type": "code",
   "execution_count": 3,
   "id": "12774720",
   "metadata": {},
   "outputs": [
    {
     "name": "stdout",
     "output_type": "stream",
     "text": [
      "[(1, 'a'), (2, 'b'), (3, 'c'), (4, 'd')]\n"
     ]
    }
   ],
   "source": [
    "#q-12\n",
    "y= [1, 2, 3, 4]\n",
    "z= ['a', 'b', 'c', 'd']\n",
    "zipping= list(zip(y,z))\n",
    "print(zipping)"
   ]
  },
  {
   "cell_type": "code",
   "execution_count": 4,
   "id": "5441f579",
   "metadata": {},
   "outputs": [
    {
     "name": "stdout",
     "output_type": "stream",
     "text": [
      "Original list: [1, 2, 3, 4, 5]\n",
      "Reversed list: [5, 4, 3, 2, 1]\n"
     ]
    }
   ],
   "source": [
    "#q-13\n",
    "def rvr(lst):\n",
    "    return lst[::-1]\n",
    "\n",
    "og= [1, 2, 3, 4, 5]\n",
    "rvr= rvr(og)\n",
    "print(f\"Original list: {og}\")\n",
    "print(f\"Reversed list: {rvr}\")"
   ]
  }
 ],
 "metadata": {
  "kernelspec": {
   "display_name": "base",
   "language": "python",
   "name": "python3"
  },
  "language_info": {
   "codemirror_mode": {
    "name": "ipython",
    "version": 3
   },
   "file_extension": ".py",
   "mimetype": "text/x-python",
   "name": "python",
   "nbconvert_exporter": "python",
   "pygments_lexer": "ipython3",
   "version": "3.12.7"
  }
 },
 "nbformat": 4,
 "nbformat_minor": 5
}
