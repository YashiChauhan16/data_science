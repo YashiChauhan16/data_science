{
 "cells": [
  {
   "cell_type": "markdown",
   "id": "09f1b462",
   "metadata": {},
   "source": [
    "Functions Assignment!"
   ]
  },
  {
   "cell_type": "code",
   "execution_count": 1,
   "id": "f98167e1",
   "metadata": {},
   "outputs": [],
   "source": [
    "#Q-1\n",
    "def square(i):\n",
    "    return (f\"Square of the number {i} = {i**2}\")\n"
   ]
  },
  {
   "cell_type": "code",
   "execution_count": 10,
   "id": "29c895e4",
   "metadata": {},
   "outputs": [
    {
     "data": {
      "text/plain": [
       "'Square of the number 4 = 16'"
      ]
     },
     "execution_count": 10,
     "metadata": {},
     "output_type": "execute_result"
    }
   ],
   "source": [
    "square(4)\n"
   ]
  },
  {
   "cell_type": "code",
   "execution_count": 11,
   "id": "ae3be595",
   "metadata": {},
   "outputs": [
    {
     "data": {
      "text/plain": [
       "'Square of the number 345 = 119025'"
      ]
     },
     "execution_count": 11,
     "metadata": {},
     "output_type": "execute_result"
    }
   ],
   "source": [
    "square(345)"
   ]
  },
  {
   "cell_type": "code",
   "execution_count": 12,
   "id": "ac5f574d",
   "metadata": {},
   "outputs": [],
   "source": [
    "#Q-2\n",
    "def sum(a,b):\n",
    "    return (f\"Sum of two numbers is {a+b}\")"
   ]
  },
  {
   "cell_type": "code",
   "execution_count": 14,
   "id": "7704220c",
   "metadata": {},
   "outputs": [
    {
     "data": {
      "text/plain": [
       "'Sum of two numbers is 100'"
      ]
     },
     "execution_count": 14,
     "metadata": {},
     "output_type": "execute_result"
    }
   ],
   "source": [
    "sum(90,10)"
   ]
  },
  {
   "cell_type": "code",
   "execution_count": 15,
   "id": "a0522033",
   "metadata": {},
   "outputs": [
    {
     "data": {
      "text/plain": [
       "'Sum of two numbers is 6560'"
      ]
     },
     "execution_count": 15,
     "metadata": {},
     "output_type": "execute_result"
    }
   ],
   "source": [
    "sum(2000,4560)"
   ]
  },
  {
   "cell_type": "code",
   "execution_count": 17,
   "id": "97259c0f",
   "metadata": {},
   "outputs": [],
   "source": [
    "#Q-3\n",
    "def fixed(a,b=5):\n",
    "    return (a+5)"
   ]
  },
  {
   "cell_type": "code",
   "execution_count": 19,
   "id": "cd999da4",
   "metadata": {},
   "outputs": [
    {
     "name": "stdout",
     "output_type": "stream",
     "text": [
      "25\n",
      "25\n"
     ]
    }
   ],
   "source": [
    "print(fixed(20,10))\n",
    "print(fixed(20,0))"
   ]
  },
  {
   "cell_type": "code",
   "execution_count": 28,
   "id": "6283e0a7",
   "metadata": {},
   "outputs": [
    {
     "name": "stdout",
     "output_type": "stream",
     "text": [
      "Age of Yashi Chauhan is 18 years old.\n",
      "Age of Mitali Sharma is 27 years old.\n"
     ]
    }
   ],
   "source": [
    "#Q-4\n",
    "def information(first_name ,  last_name , age):\n",
    "    return (f\"Age of {first_name} {last_name} is {age} years old.\")\n",
    "\n",
    "print(information('Yashi' ,'Chauhan',18 ))\n",
    "print(information(first_name=\"Mitali\" ,last_name=\"Sharma\", age = 27))"
   ]
  },
  {
   "cell_type": "code",
   "execution_count": 45,
   "id": "462bc165",
   "metadata": {},
   "outputs": [
    {
     "name": "stdout",
     "output_type": "stream",
     "text": [
      "2160\n",
      "224000\n"
     ]
    }
   ],
   "source": [
    " #Q-5\n",
    "def variable(*a):\n",
    "    product = 1\n",
    "    for num in a:\n",
    "        product *= num\n",
    "    return product\n",
    "\n",
    "print(variable(5,6,8,9))\n",
    "print(variable(80,70,40))\n",
    "    \n"
   ]
  },
  {
   "cell_type": "code",
   "execution_count": 51,
   "id": "ebd67921",
   "metadata": {},
   "outputs": [
    {
     "name": "stdout",
     "output_type": "stream",
     "text": [
      "When Multiplied : 30\n",
      "When Multiplied : 4000\n"
     ]
    }
   ],
   "source": [
    "#Q-6\n",
    "def outer(y,z):\n",
    "    def inner(y,z):\n",
    "        return(f\"When Multiplied : {y*z}\")\n",
    "    return inner(y,z)\n",
    "\n",
    "print(outer(5,6,))  #30\n",
    "print(outer(50,80))"
   ]
  },
  {
   "cell_type": "code",
   "execution_count": 53,
   "id": "b7132c02",
   "metadata": {},
   "outputs": [
    {
     "name": "stdout",
     "output_type": "stream",
     "text": [
      "Square :4 , Cubed : 8 , Four : 16\n",
      "Square :900 , Cubed : 27000 , Four : 810000\n",
      "Square :360000 , Cubed : 216000000 , Four : 129600000000\n"
     ]
    }
   ],
   "source": [
    "#Q-7\n",
    "def sq_cb_f(q):\n",
    "    return(f\"Square :{q**2} , Cubed : {q**3} , Four : {q**4}\")\n",
    "\n",
    "print(sq_cb_f(2))\n",
    "print(sq_cb_f(30))\n",
    "print(sq_cb_f(600))"
   ]
  },
  {
   "cell_type": "code",
   "execution_count": 56,
   "id": "9dd16424",
   "metadata": {},
   "outputs": [
    {
     "name": "stdout",
     "output_type": "stream",
     "text": [
      "120\n",
      "1\n",
      "720\n"
     ]
    }
   ],
   "source": [
    "#Q-8\n",
    "def factorial(n):\n",
    "    if n == 0:\n",
    "        return 1\n",
    "    else:\n",
    "        return n * factorial(n - 1)\n",
    "    \n",
    "print(factorial(5))\n",
    "print(factorial(0))\n",
    "print(factorial(6))"
   ]
  },
  {
   "cell_type": "code",
   "execution_count": 57,
   "id": "b76a2db3",
   "metadata": {},
   "outputs": [
    {
     "name": "stdout",
     "output_type": "stream",
     "text": [
      "5\n",
      "100\n"
     ]
    }
   ],
   "source": [
    "#Q-9\n",
    "sum = lambda a,b : a+b \n",
    "print(sum(2,3))  #5\n",
    "print(sum(30,70))  #100"
   ]
  },
  {
   "cell_type": "code",
   "execution_count": 58,
   "id": "f23e2d8b",
   "metadata": {},
   "outputs": [
    {
     "name": "stdout",
     "output_type": "stream",
     "text": [
      "[4, 8, 12, 16, 20, 24]\n"
     ]
    }
   ],
   "source": [
    "#Q-10\n",
    "numb=[2,4,6,8,10,12]\n",
    "my_list=list(map(lambda x: x*2, numb))\n",
    "print(my_list)"
   ]
  },
  {
   "cell_type": "code",
   "execution_count": 64,
   "id": "03cc3ca1",
   "metadata": {},
   "outputs": [
    {
     "name": "stdout",
     "output_type": "stream",
     "text": [
      "[2, 4, 6, 8]\n"
     ]
    }
   ],
   "source": [
    "#Q-11\n",
    "numbers=[2,3,4,5,6,7,8,9,1]\n",
    "hm =list(filter(lambda a:a%2==0,numbers))\n",
    "print(hm)"
   ]
  },
  {
   "cell_type": "code",
   "execution_count": 4,
   "id": "45f77696",
   "metadata": {},
   "outputs": [
    {
     "name": "stdout",
     "output_type": "stream",
     "text": [
      "Executing function...\n",
      "Function executed.\n",
      "21\n"
     ]
    }
   ],
   "source": [
    "#Q-12\n",
    "def my_decorator(func):\n",
    "    def wrapper(*args, **kwargs):\n",
    "        print('Executing function...')\n",
    "        result = func(*args, **kwargs)\n",
    "        print('Function executed.')\n",
    "        return result\n",
    "    return wrapper\n",
    "\n",
    "@my_decorator\n",
    "def sum_list(lst):\n",
    "    return sum(lst)\n",
    "print(sum_list([1,2,3,4,5,6]))"
   ]
  },
  {
   "cell_type": "code",
   "execution_count": null,
   "id": "bedfeae7",
   "metadata": {},
   "outputs": [
    {
     "name": "stdout",
     "output_type": "stream",
     "text": [
      "args: (100, 200, 4, 8)\n",
      "kwargs: {'q': 'hello', 'w': 'world'}\n",
      "args: (16, 10)\n",
      "kwargs: {'a': 1607, 'b': 'Numbers.'}\n"
     ]
    }
   ],
   "source": [
    "#Q-13\n",
    "def args_kwargs(*args, **kwargs):\n",
    "    print('args:', args)\n",
    "    print('kwargs:', kwargs)\n",
    "\n",
    "\n",
    "\n",
    "\n",
    "args_kwargs(100,200,4,8, q='hello', w= 'world')\n",
    "args_kwargs(16,10,a=1607,b='Numbers.')\n",
    "\n"
   ]
  },
  {
   "cell_type": "code",
   "execution_count": 5,
   "id": "77279b76",
   "metadata": {},
   "outputs": [
    {
     "name": "stdout",
     "output_type": "stream",
     "text": [
      "[4, 16, 36, 64, 100]\n",
      "[2, 3, 4, 5, 6]\n"
     ]
    }
   ],
   "source": [
    "#Q-14\n",
    "def apply_function(func, lst):\n",
    "    return [func(x) for x in lst]\n",
    "\n",
    "print(apply_function(lambda x:x**2, [2,4,6,8,10]))\n",
    "print(apply_function(lambda x:x+1, [1,2,3,4,5]))"
   ]
  },
  {
   "cell_type": "code",
   "execution_count": 8,
   "id": "c0b3d128",
   "metadata": {},
   "outputs": [
    {
     "name": "stdout",
     "output_type": "stream",
     "text": [
      "\n",
      "    This function returns the square of a number.\n",
      "    The number is given by the user.\n",
      "\n",
      "    x (int) =The number.\n",
      "\n",
      "    eg :- x = 4\n",
      "    output :- 16    # 4*4\n",
      "    \n"
     ]
    }
   ],
   "source": [
    "#Q-15\n",
    "def square(x):\n",
    "    \"\"\"\n",
    "    This function returns the square of a number.\n",
    "    The number is given by the user.\n",
    "\n",
    "    x (int) =The number.\n",
    "\n",
    "    eg :- x = 4\n",
    "    output :- 16    # 4*4\n",
    "    \"\"\"\n",
    "    return x*x\n",
    "\n",
    "print(square.__doc__)\n",
    "# print(square(12))    #12*12 = 144"
   ]
  }
 ],
 "metadata": {
  "kernelspec": {
   "display_name": "base",
   "language": "python",
   "name": "python3"
  },
  "language_info": {
   "codemirror_mode": {
    "name": "ipython",
    "version": 3
   },
   "file_extension": ".py",
   "mimetype": "text/x-python",
   "name": "python",
   "nbconvert_exporter": "python",
   "pygments_lexer": "ipython3",
   "version": "3.12.7"
  }
 },
 "nbformat": 4,
 "nbformat_minor": 5
}
