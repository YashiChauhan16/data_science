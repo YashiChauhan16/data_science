{
 "cells": [
  {
   "cell_type": "markdown",
   "id": "ae7a9ddf",
   "metadata": {},
   "source": [
    "File operations and Exception handling."
   ]
  },
  {
   "cell_type": "code",
   "execution_count": 5,
   "id": "4ee410a3",
   "metadata": {},
   "outputs": [
    {
     "name": "stdout",
     "output_type": "stream",
     "text": [
      "Hey.\n",
      "My name is Yashi.\n",
      "I am 18 years old.\n",
      "\n",
      "\n"
     ]
    }
   ],
   "source": [
    "#Q-1\n",
    "def file(file_name):\n",
    "    with open(file_name,\"rt\")as f:\n",
    "        for line in f:\n",
    "            print(line.strip())\n",
    "\n",
    "file(\"sample.txt\")"
   ]
  },
  {
   "cell_type": "code",
   "execution_count": null,
   "id": "b93e99c6",
   "metadata": {},
   "outputs": [],
   "source": [
    "#Q-2\n",
    "def write_list(lines,finlename):\n",
    "    with open(\"filename\",\"w\")as a:\n",
    "        for line in lines:\n",
    "            a.write(line + \"\\n\" )\n",
    "\n",
    "write_list([\"My\",\"Name\",\"is\",\"Yashi.\"],\"output.txt\")\n"
   ]
  },
  {
   "cell_type": "code",
   "execution_count": 23,
   "id": "e714c051",
   "metadata": {},
   "outputs": [],
   "source": [
    "#Q-3\n",
    "def copy_text(s, d):\n",
    "    with open(s, 'r') as source:\n",
    "        with open(d, 'w') as destination:\n",
    "            destination.write(source.read())\n",
    "\n",
    "copy_text(\"source.txt\",\"destination.txt\")"
   ]
  },
  {
   "cell_type": "code",
   "execution_count": 4,
   "id": "0f3fb94d",
   "metadata": {},
   "outputs": [],
   "source": [
    "#Q-4\n",
    "def appending(filename,a):\n",
    "    with open(filename,\"a\")as file:\n",
    "        file.write(a)\n",
    "       \n",
    "\n",
    "appending(\"log.txt\",\"\\nThis a new line.\")"
   ]
  },
  {
   "cell_type": "code",
   "execution_count": 11,
   "id": "663a329b",
   "metadata": {},
   "outputs": [
    {
     "data": {
      "text/plain": [
       "13"
      ]
     },
     "execution_count": 11,
     "metadata": {},
     "output_type": "execute_result"
    }
   ],
   "source": [
    "#Q-5\n",
    "def count_words(filename):\n",
    "     with open(filename,\"r\")as document:\n",
    "        text=document.read()\n",
    "        words=text.split()\n",
    "        return len(words)\n",
    "\n",
    "\n",
    "count_words(\"document.txt\")\n",
    "       "
   ]
  },
  {
   "cell_type": "code",
   "execution_count": null,
   "id": "7762a65d",
   "metadata": {},
   "outputs": [],
   "source": [
    "#Q-6\n"
   ]
  },
  {
   "cell_type": "code",
   "execution_count": null,
   "id": "5eea8688",
   "metadata": {},
   "outputs": [],
   "source": []
  },
  {
   "cell_type": "code",
   "execution_count": null,
   "id": "acde61cf",
   "metadata": {},
   "outputs": [],
   "source": []
  },
  {
   "cell_type": "code",
   "execution_count": null,
   "id": "10ae4c79",
   "metadata": {},
   "outputs": [],
   "source": []
  }
 ],
 "metadata": {
  "kernelspec": {
   "display_name": "base",
   "language": "python",
   "name": "python3"
  },
  "language_info": {
   "codemirror_mode": {
    "name": "ipython",
    "version": 3
   },
   "file_extension": ".py",
   "mimetype": "text/x-python",
   "name": "python",
   "nbconvert_exporter": "python",
   "pygments_lexer": "ipython3",
   "version": "3.12.7"
  }
 },
 "nbformat": 4,
 "nbformat_minor": 5
}
