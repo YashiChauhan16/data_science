{
 "cells": [
  {
   "cell_type": "markdown",
   "id": "b1713923",
   "metadata": {},
   "source": [
    "Classes and Objects Assignment!"
   ]
  },
  {
   "cell_type": "code",
   "execution_count": null,
   "id": "3ed9f1ef",
   "metadata": {},
   "outputs": [],
   "source": [
    "#Q-1\n",
    "class car:\n",
    "    def __init__(my,make,model,year):\n",
    "        my.make = make\n",
    "        my.model = model\n",
    "        my.year = year\n",
    "\n",
    "my_car=car('Ford','Mustang',2015)\n",
    "print(my_car.make,my_car.model,my_car.year)"
   ]
  },
  {
   "cell_type": "code",
   "execution_count": null,
   "id": "07d24b22",
   "metadata": {},
   "outputs": [],
   "source": [
    "#Q-2\n",
    "class car:\n",
    "    def __init__(my,make,model,year):\n",
    "        my.make = make\n",
    "        my.model = model\n",
    "        my.year = year\n",
    "\n",
    "    def engine():\n",
    "        print(\"Engine Started.\")\n",
    "\n",
    "my_car=car(\"BMW\",\"M5\",2022)\n",
    "print(my_car.make, my_car.model,my_car.year)\n",
    "car.engine()"
   ]
  },
  {
   "cell_type": "code",
   "execution_count": null,
   "id": "8cc0b99f",
   "metadata": {},
   "outputs": [],
   "source": [
    "#Q-3\n",
    "class Student:\n",
    "    def __init__(smile,name,age):\n",
    "        smile.name=name\n",
    "        smile.age=age\n",
    "\n",
    "std=Student(\"Aarya\",19)\n",
    "print(f\"Nmae of student :{std.name} , Age of student :{std.age}\")"
   ]
  },
  {
   "cell_type": "code",
   "execution_count": null,
   "id": "8c68ae85",
   "metadata": {},
   "outputs": [],
   "source": [
    "#Q-4\n",
    "class BankAccount:\n",
    "    def __init__(bank,account_number,balance=0):\n",
    "        bank.__account_number=account_number\n",
    "        bank.__balance=balance\n",
    "\n",
    "    def deposit(bank , amount):\n",
    "        bank.__balance += amount\n",
    "\n",
    "    def withdraw(bank, amount):\n",
    "        if amount > bank.__balance:\n",
    "            print(\"This amount is not available!\")\n",
    "        else:\n",
    "            bank.__balance -= amount\n",
    "\n",
    "    def check_balance(bank):\n",
    "        return bank.__balance\n",
    "    \n",
    "account=(BankAccount(\"5678912342\",10000))\n",
    "account.deposit(40000)\n",
    "account.withdraw(60000)\n",
    "print(account.check_balance())"
   ]
  },
  {
   "cell_type": "code",
   "execution_count": null,
   "id": "55cc4b36",
   "metadata": {},
   "outputs": [],
   "source": [
    "#Q-5 & Q-6\n",
    "class Person():\n",
    "    def __init__(self,name,age):\n",
    "        self.name=name\n",
    "        self.age=age\n",
    "\n",
    "class Employee(Person):\n",
    "    def __init__(self,name,age,employee_id):\n",
    "        super().__init__(name,age)\n",
    "        self.employee_id=employee_id\n",
    "\n",
    "    # def id_of(self):                #q-5\n",
    "    #     return(f\"Id of emoployee is :- {self.employee_id}\")\n",
    "    \n",
    "\n",
    "    def __str__(self):                 #q-6\n",
    "        return f\"Employee_id ({self.employee_id})\"\n",
    "    \n",
    "    \n",
    "new_id=Employee(\"Yashi\",19,1432343456)\n",
    "print(new_id)\n",
    "# new_id.id_of()\n",
    "\n"
   ]
  },
  {
   "cell_type": "code",
   "execution_count": null,
   "id": "d1634cbf",
   "metadata": {},
   "outputs": [],
   "source": [
    "#Q-7\n",
    "class Address:\n",
    "    def __init__(self,street,city,zipcode):\n",
    "        self.street=street\n",
    "        self.city=city\n",
    "        self.zipcode=zipcode\n",
    "\n",
    "class Person:\n",
    "    def __init__(self,name,age,address):\n",
    "        self.name=name\n",
    "        self.age=age\n",
    "        self.address=address\n",
    "\n",
    "\n",
    "address=Address(\"5th Avenue\",\"New York\",10001)\n",
    "person=Person(\"Aashi\",20,address)\n",
    "print(person.address.street, person.address.city, person.address.zipcode)"
   ]
  },
  {
   "cell_type": "code",
   "execution_count": 26,
   "id": "1ff558dd",
   "metadata": {},
   "outputs": [
    {
     "name": "stdout",
     "output_type": "stream",
     "text": [
      "2\n"
     ]
    }
   ],
   "source": [
    "#Q-8\n",
    "class Counter():\n",
    "    count=0\n",
    "\n",
    "    def __init__(self):\n",
    "        Counter.count += 1\n",
    "\n",
    "    @classmethod\n",
    "    def get_count(cls):\n",
    "      return cls.count\n",
    "    \n",
    "world=Counter()\n",
    "hello=Counter()\n",
    "print(Counter.get_count())"
   ]
  },
  {
   "cell_type": "code",
   "execution_count": 8,
   "id": "0faf7766",
   "metadata": {},
   "outputs": [
    {
     "name": "stdout",
     "output_type": "stream",
     "text": [
      "10.954451150103322\n",
      "1.4142135623730951\n",
      "4.47213595499958\n"
     ]
    }
   ],
   "source": [
    "#Q-9\n",
    "import math\n",
    "\n",
    "class mathoperation():\n",
    "    @staticmethod\n",
    "    def sqrt(a):\n",
    "        return math.sqrt(a)\n",
    "    \n",
    "print(mathoperation.sqrt(120))\n",
    "print(mathoperation.sqrt(2))\n",
    "print(mathoperation.sqrt(20))\n"
   ]
  },
  {
   "cell_type": "code",
   "execution_count": 9,
   "id": "e0627abc",
   "metadata": {},
   "outputs": [
    {
     "name": "stdout",
     "output_type": "stream",
     "text": [
      "100 200\n"
     ]
    }
   ],
   "source": [
    "#Q-10\n",
    "class Rectangle():\n",
    "    def __init__(self,length,width):\n",
    "        self.__length=length\n",
    "        self.__width=width\n",
    "\n",
    "    @property\n",
    "    def lenght(self):\n",
    "        return self.__length\n",
    "    @lenght.setter\n",
    "    def lenght(self,length):\n",
    "        self.__length = length\n",
    "\n",
    "    @property\n",
    "    def width(self):\n",
    "        return self.__width\n",
    "    @width.setter\n",
    "    def width(self,width):\n",
    "         self.__width = width\n",
    "\n",
    "shape=Rectangle(100,200)\n",
    "print(shape.lenght,shape.width)"
   ]
  },
  {
   "cell_type": "code",
   "execution_count": 3,
   "id": "1d3d8a8a",
   "metadata": {},
   "outputs": [
    {
     "name": "stdout",
     "output_type": "stream",
     "text": [
      "314.1592653589793\n",
      "100\n"
     ]
    }
   ],
   "source": [
    "#Q-11\n",
    "from abc import ABC, abstractmethod\n",
    "import math\n",
    "\n",
    "class Shape(ABC):\n",
    "    def area(self):\n",
    "        print(\"Area of the shape.\")\n",
    "        @abstractmethod\n",
    "        def show_area(self):\n",
    "            pass\n",
    "\n",
    "class Circle(Shape):\n",
    "    def __init__(self,radius):\n",
    "        self.radius = radius\n",
    "    def area(self):\n",
    "        return math.pi*self.radius**2\n",
    "\n",
    "class Square(Shape):\n",
    "    def __init__(self,side):\n",
    "        self.side = side\n",
    "    def area(self):\n",
    "        return self.side**2\n",
    "    \n",
    "cc=Circle(10)\n",
    "sq= Square(10)\n",
    "print(cc.area())\n",
    "print(sq.area())"
   ]
  },
  {
   "cell_type": "code",
   "execution_count": null,
   "id": "e1096d72",
   "metadata": {},
   "outputs": [],
   "source": [
    "#Q-12\n",
    "\n"
   ]
  },
  {
   "cell_type": "code",
   "execution_count": null,
   "id": "50c47e57",
   "metadata": {},
   "outputs": [],
   "source": [
    "#Q-13\n"
   ]
  },
  {
   "cell_type": "code",
   "execution_count": null,
   "id": "0c66c7ee",
   "metadata": {},
   "outputs": [],
   "source": []
  },
  {
   "cell_type": "code",
   "execution_count": null,
   "id": "5449e651",
   "metadata": {},
   "outputs": [],
   "source": []
  }
 ],
 "metadata": {
  "kernelspec": {
   "display_name": "base",
   "language": "python",
   "name": "python3"
  },
  "language_info": {
   "codemirror_mode": {
    "name": "ipython",
    "version": 3
   },
   "file_extension": ".py",
   "mimetype": "text/x-python",
   "name": "python",
   "nbconvert_exporter": "python",
   "pygments_lexer": "ipython3",
   "version": "3.12.7"
  }
 },
 "nbformat": 4,
 "nbformat_minor": 5
}
