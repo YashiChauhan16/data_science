{
 "cells": [
  {
   "cell_type": "markdown",
   "id": "a59cb637",
   "metadata": {},
   "source": [
    "INHERITANCE ASSIGNMENT."
   ]
  },
  {
   "cell_type": "code",
   "execution_count": null,
   "id": "c35b2574",
   "metadata": {},
   "outputs": [
    {
     "name": "stdout",
     "output_type": "stream",
     "text": [
      "Bolt Canis Husky\n",
      "(Bolt barks.)\n"
     ]
    }
   ],
   "source": [
    "#q-1\n",
    "class Animal():\n",
    "    def __init__(self, name,species):\n",
    "        self.name = name\n",
    "        self.species = species\n",
    "\n",
    "class Dog(Animal):\n",
    "    def __init__(self, name,species,breed):\n",
    "        super().__init__(name,species)\n",
    "        self.breed=breed\n",
    "    ####q-2------\n",
    "    def __str__(self):\n",
    "        return f\"({self.name} barks.)\"\n",
    "\n",
    "nsb=Dog(\"Bolt\",\"Canis\",\"Husky\")\n",
    "print(nsb.name,nsb.species,nsb.breed)\n",
    "print(nsb)"
   ]
  },
  {
   "cell_type": "code",
   "execution_count": 2,
   "id": "0fa65a9b",
   "metadata": {},
   "outputs": [
    {
     "name": "stdout",
     "output_type": "stream",
     "text": [
      "Woof!\n"
     ]
    }
   ],
   "source": [
    "#q-3\n",
    "class Dog(Animal):\n",
    "    def __init__(self, name,species,breed):\n",
    "        super().__init__(name,species)\n",
    "        self.breed=breed\n",
    "    def sound(self):\n",
    "        print(\"Woof!\")\n",
    "    \n",
    "new=Dog(\"Shadow\",\"Canis\",\"Husky\")\n",
    "new.sound()"
   ]
  },
  {
   "cell_type": "code",
   "execution_count": 4,
   "id": "16062532",
   "metadata": {},
   "outputs": [],
   "source": [
    "#q-4\n",
    "class walker():\n",
    "    def walk(self):\n",
    "        print(\"Walking.\")\n",
    "\n",
    "# class Runner():"
   ]
  },
  {
   "cell_type": "code",
   "execution_count": null,
   "id": "a5d08d18",
   "metadata": {},
   "outputs": [],
   "source": [
    "#q-5\n"
   ]
  },
  {
   "cell_type": "code",
   "execution_count": null,
   "id": "5936b502",
   "metadata": {},
   "outputs": [],
   "source": []
  },
  {
   "cell_type": "code",
   "execution_count": null,
   "id": "b32e8a2d",
   "metadata": {},
   "outputs": [],
   "source": []
  },
  {
   "cell_type": "code",
   "execution_count": null,
   "id": "37bacd52",
   "metadata": {},
   "outputs": [],
   "source": []
  },
  {
   "cell_type": "code",
   "execution_count": null,
   "id": "c5d93e52",
   "metadata": {},
   "outputs": [],
   "source": []
  }
 ],
 "metadata": {
  "kernelspec": {
   "display_name": "base",
   "language": "python",
   "name": "python3"
  },
  "language_info": {
   "codemirror_mode": {
    "name": "ipython",
    "version": 3
   },
   "file_extension": ".py",
   "mimetype": "text/x-python",
   "name": "python",
   "nbconvert_exporter": "python",
   "pygments_lexer": "ipython3",
   "version": "3.12.7"
  }
 },
 "nbformat": 4,
 "nbformat_minor": 5
}
