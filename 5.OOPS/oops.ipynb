{
 "cells": [
  {
   "cell_type": "markdown",
   "id": "6ad17302",
   "metadata": {},
   "source": [
    "OOPS ASSIGNMENT."
   ]
  },
  {
   "cell_type": "code",
   "execution_count": null,
   "id": "bc47e83e",
   "metadata": {},
   "outputs": [],
   "source": [
    "#q-1\n"
   ]
  }
 ],
 "metadata": {
  "kernelspec": {
   "display_name": "base",
   "language": "python",
   "name": "python3"
  },
  "language_info": {
   "name": "python",
   "version": "3.12.7"
  }
 },
 "nbformat": 4,
 "nbformat_minor": 5
}
