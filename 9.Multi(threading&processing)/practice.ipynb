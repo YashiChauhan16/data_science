{
 "cells": [
  {
   "cell_type": "markdown",
   "id": "2df44b21",
   "metadata": {},
   "source": [
    "MULTITHREADING AND MULTIPROCESSING."
   ]
  },
  {
   "cell_type": "code",
   "execution_count": null,
   "id": "709cac98",
   "metadata": {},
   "outputs": [],
   "source": []
  }
 ],
 "metadata": {
  "kernelspec": {
   "display_name": "base",
   "language": "python",
   "name": "python3"
  },
  "language_info": {
   "name": "python",
   "version": "3.12.7"
  }
 },
 "nbformat": 4,
 "nbformat_minor": 5
}
